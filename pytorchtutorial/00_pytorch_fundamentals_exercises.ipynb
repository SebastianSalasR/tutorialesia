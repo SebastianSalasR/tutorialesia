{
  "cells": [
    {
      "cell_type": "markdown",
      "metadata": {
        "id": "AzDBM_v4iMe7"
      },
      "source": [
        "# 00. PyTorch Fundamentals Exercises\n",
        "\n",
        "### 1. Documentation reading \n",
        "\n",
        "A big part of deep learning (and learning to code in general) is getting familiar with the documentation of a certain framework you're using. We'll be using the PyTorch documentation a lot throughout the rest of this course. So I'd recommend spending 10-minutes reading the following (it's okay if you don't get some things for now, the focus is not yet full understanding, it's awareness):\n",
        "  * The documentation on [`torch.Tensor`](https://pytorch.org/docs/stable/tensors.html#torch-tensor).\n",
        "  * The documentation on [`torch.cuda`](https://pytorch.org/docs/master/notes/cuda.html#cuda-semantics).\n",
        "\n"
      ]
    },
    {
      "cell_type": "code",
      "execution_count": 1,
      "metadata": {
        "id": "bGD0oD8Kizak"
      },
      "outputs": [],
      "source": [
        "# No code solution (reading)"
      ]
    },
    {
      "cell_type": "markdown",
      "metadata": {
        "id": "__iXqqz-ioUJ"
      },
      "source": [
        "### 2. Create a random tensor with shape `(7, 7)`.\n"
      ]
    },
    {
      "cell_type": "code",
      "execution_count": 6,
      "metadata": {
        "id": "6pUq9Dc8i2L7"
      },
      "outputs": [
        {
          "data": {
            "text/plain": [
              "tensor([[0.1280, 0.2419, 0.3956, 0.4427, 0.0292, 0.2985, 0.7602],\n",
              "        [0.0142, 0.9401, 0.2544, 0.4240, 0.1524, 0.8144, 0.0328],\n",
              "        [0.1843, 0.6749, 0.6982, 0.5318, 0.2492, 0.5876, 0.0173],\n",
              "        [0.4195, 0.0124, 0.7487, 0.7676, 0.3925, 0.1930, 0.0904],\n",
              "        [0.2892, 0.2341, 0.2658, 0.9769, 0.9648, 0.5878, 0.3751],\n",
              "        [0.8761, 0.8264, 0.3253, 0.0836, 0.7495, 0.2700, 0.6609],\n",
              "        [0.5107, 0.3437, 0.5524, 0.1241, 0.5920, 0.5953, 0.4864]])"
            ]
          },
          "execution_count": 6,
          "metadata": {},
          "output_type": "execute_result"
        }
      ],
      "source": [
        "import torch\n",
        "\n",
        "\n",
        "# Create random tensor\n",
        "tensor = torch.rand(7,7)\n",
        "tensor"
      ]
    },
    {
      "cell_type": "markdown",
      "metadata": {
        "id": "9-XxvRLfiqkR"
      },
      "source": [
        "### 3. Perform a matrix multiplication on the tensor from 2 with another random tensor with shape `(1, 7)` (hint: you may have to transpose the second tensor)."
      ]
    },
    {
      "cell_type": "code",
      "execution_count": 9,
      "metadata": {
        "id": "NcLqR0Sbi_vT"
      },
      "outputs": [
        {
          "name": "stdout",
          "output_type": "stream",
          "text": [
            "Tensor2: tensor([[0.1133],\n",
            "        [0.7225],\n",
            "        [0.4744],\n",
            "        [0.2884],\n",
            "        [0.9661],\n",
            "        [0.5218],\n",
            "        [0.2178]])\n"
          ]
        },
        {
          "data": {
            "text/plain": [
              "tensor([[0.8541],\n",
              "        [1.5031],\n",
              "        [1.5442],\n",
              "        [1.1326],\n",
              "        [1.9302],\n",
              "        [1.8836],\n",
              "        [1.5925]])"
            ]
          },
          "execution_count": 9,
          "metadata": {},
          "output_type": "execute_result"
        }
      ],
      "source": [
        "# Create another random tensor\n",
        "tensor2 = torch.rand(1,7)\n",
        "print(f\"Tensor2: {tensor2.T}\")\n",
        "# Perform matrix multiplication \n",
        "tensor @ tensor2.T"
      ]
    },
    {
      "cell_type": "markdown",
      "metadata": {
        "id": "eiutdKUFiryU"
      },
      "source": [
        "### 4. Set the random seed to `0` and do 2 & 3 over again.\n",
        "\n",
        "The output should be:\n",
        "```\n",
        "(tensor([[1.8542],\n",
        "         [1.9611],\n",
        "         [2.2884],\n",
        "         [3.0481],\n",
        "         [1.7067],\n",
        "         [2.5290],\n",
        "         [1.7989]]), torch.Size([7, 1]))\n",
        "```"
      ]
    },
    {
      "cell_type": "code",
      "execution_count": 13,
      "metadata": {
        "id": "D-lOWI_1jRMm"
      },
      "outputs": [
        {
          "name": "stdout",
          "output_type": "stream",
          "text": [
            "Tensor a: tensor([[0.4963, 0.7682, 0.0885, 0.1320, 0.3074, 0.6341],\n",
            "        [0.4901, 0.8964, 0.4556, 0.6323, 0.3489, 0.4017],\n",
            "        [0.0223, 0.1689, 0.2939, 0.5185, 0.6977, 0.8000],\n",
            "        [0.1610, 0.2823, 0.6816, 0.9152, 0.3971, 0.8742],\n",
            "        [0.4194, 0.5529, 0.9527, 0.0362, 0.1852, 0.3734]])\n",
            "Tensor b: tensor([[0.3051, 0.9320, 0.1759, 0.2698, 0.1507],\n",
            "        [0.0317, 0.2081, 0.9298, 0.7231, 0.7423],\n",
            "        [0.5263, 0.2437, 0.5846, 0.0332, 0.1387],\n",
            "        [0.2422, 0.8155, 0.7932, 0.2783, 0.4820],\n",
            "        [0.8198, 0.9971, 0.6984, 0.5675, 0.8352],\n",
            "        [0.2056, 0.5932, 0.1123, 0.1535, 0.2417]])\n"
          ]
        },
        {
          "data": {
            "text/plain": [
              "tensor([[0.6367, 1.4343, 1.2440, 1.0009, 1.1310],\n",
              "        [0.9395, 1.8561, 1.9764, 1.2312, 1.4958],\n",
              "        [1.0289, 1.7206, 1.3212, 0.8009, 1.1955],\n",
              "        [1.1438, 2.0357, 1.7907, 0.8843, 1.3124],\n",
              "        [0.8843, 1.1738, 1.3448, 0.7171, 0.8682]])"
            ]
          },
          "execution_count": 13,
          "metadata": {},
          "output_type": "execute_result"
        }
      ],
      "source": [
        "# Set manual seed\n",
        "torch.manual_seed(0)\n",
        "\n",
        "# Create two random tensors\n",
        "a = torch.rand(5,6)\n",
        "b = torch.rand(6,5)\n",
        "\n",
        "print(f\"Tensor a: {a}\")\n",
        "print(f\"Tensor b: {b}\")\n",
        "# Matrix multiply tensors\n",
        "a @ b"
      ]
    },
    {
      "cell_type": "markdown",
      "metadata": {
        "id": "ezY6ks9Cis37"
      },
      "source": [
        "### 5. Speaking of random seeds, we saw how to set it with `torch.manual_seed()` but is there a GPU equivalent? (hint: you'll need to look into the documentation for `torch.cuda` for this one)\n",
        "  * If there is, set the GPU random seed to `1234`."
      ]
    },
    {
      "cell_type": "code",
      "execution_count": null,
      "metadata": {
        "id": "_LKWcfSTjp00"
      },
      "outputs": [],
      "source": [
        "# Set random seed on the GPU\n",
        "torch.cuda.manual_seed(1234)"
      ]
    },
    {
      "cell_type": "markdown",
      "metadata": {
        "id": "Ir9qSaj6it4n"
      },
      "source": [
        "\n",
        "### 6. Create two random tensors of shape `(2, 3)` and send them both to the GPU (you'll need access to a GPU for this). Set `torch.manual_seed(1234)` when creating the tensors (this doesn't have to be the GPU random seed). The output should be something like:\n",
        "\n",
        "```\n",
        "Device: cuda\n",
        "(tensor([[0.0290, 0.4019, 0.2598],\n",
        "         [0.3666, 0.0583, 0.7006]], device='cuda:0'),\n",
        " tensor([[0.0518, 0.4681, 0.6738],\n",
        "         [0.3315, 0.7837, 0.5631]], device='cuda:0'))\n",
        "```"
      ]
    },
    {
      "cell_type": "code",
      "execution_count": null,
      "metadata": {
        "id": "azXExiFZj5nm"
      },
      "outputs": [
        {
          "name": "stdout",
          "output_type": "stream",
          "text": [
            "cuda is available\n",
            "Tensor a: tensor([[0.5445, 0.4124, 0.0008],\n",
            "        [0.7212, 0.5075, 0.7196]], device='cuda:0')\n",
            "Tensor b: tensor([[0.0047, 0.0667, 0.3504],\n",
            "        [0.2350, 0.9492, 0.6495]], device='cuda:0')\n"
          ]
        }
      ],
      "source": [
        "# Set random seed\n",
        "torch.manual_seed(1234)\n",
        "\n",
        "# Check for access to GPU\n",
        "print(\"cuda is available\" if torch.cuda.is_available() else \"cuda is no available, using CPU\")\n",
        "\n",
        "# Create two random tensors on GPU\n",
        "a = torch.rand(2, 3, device='cuda')\n",
        "b = torch.rand(2, 3, device='cuda')\n",
        "print(f\"Tensor a: {a}\")\n",
        "print(f\"Tensor b: {b}\")\n",
        "\n"
      ]
    },
    {
      "cell_type": "markdown",
      "metadata": {
        "id": "5TlAxeiSiu1y"
      },
      "source": [
        "\n",
        "### 7. Perform a matrix multiplication on the tensors you created in 6 (again, you may have to adjust the shapes of one of the tensors).\n",
        "\n",
        "The output should look like:\n",
        "```\n",
        "(tensor([[0.3647, 0.4709],\n",
        "         [0.5184, 0.5617]], device='cuda:0'), torch.Size([2, 2]))\n",
        "```"
      ]
    },
    {
      "cell_type": "code",
      "execution_count": 26,
      "metadata": {
        "id": "fAeG7ox0lHEO"
      },
      "outputs": [
        {
          "data": {
            "text/plain": [
              "tensor([[0.0303, 0.5199],\n",
              "        [0.2894, 1.1186]], device='cuda:0')"
            ]
          },
          "execution_count": 26,
          "metadata": {},
          "output_type": "execute_result"
        }
      ],
      "source": [
        "# Perform matmul on tensor_A and tensor_B\n",
        "a @ b.T"
      ]
    },
    {
      "cell_type": "markdown",
      "metadata": {
        "id": "G7qfa5CSivwg"
      },
      "source": [
        "### 8. Find the maximum and minimum values of the output of 7."
      ]
    },
    {
      "cell_type": "code",
      "execution_count": 32,
      "metadata": {
        "id": "Fu8_3mZpllOd"
      },
      "outputs": [
        {
          "name": "stdout",
          "output_type": "stream",
          "text": [
            "a max: 0.7212387919425964, b max: 0.9492106437683105\n",
            "a min: 0.0008202638709917665, b min: 0.0047243740409612656\n"
          ]
        }
      ],
      "source": [
        "# Find max\n",
        "print(f\"a max: {a.max()}, b max: {b.max()}\")\n",
        "#print(f\"a max: {torch.max(a)}, b max: {torch.max(b)}\")\n",
        "# Find min\n",
        "print(f\"a min: {a.min()}, b min: {b.min()}\")\n",
        "#print(f\"a min: {torch.min(a)}, b min: {torch.min(b)}\")\n"
      ]
    },
    {
      "cell_type": "markdown",
      "metadata": {
        "id": "wrTj5FgNiw47"
      },
      "source": [
        "### 9. Find the maximum and minimum index values of the output of 7."
      ]
    },
    {
      "cell_type": "code",
      "execution_count": 35,
      "metadata": {
        "id": "CCEKt4K2lsfQ"
      },
      "outputs": [
        {
          "name": "stdout",
          "output_type": "stream",
          "text": [
            "a argmax: 3, b argmax: 4\n",
            "a argmin: 2, b argmin: 0\n"
          ]
        }
      ],
      "source": [
        "# Find arg max\n",
        "print(f\"a argmax: {a.argmax()}, b argmax: {b.argmax()}\")\n",
        "\n",
        "# Find arg min\n",
        "print(f\"a argmin: {a.argmin()}, b argmin: {b.argmin()}\")"
      ]
    },
    {
      "cell_type": "markdown",
      "metadata": {
        "id": "hmeybz4uixy7"
      },
      "source": [
        "\n",
        "### 10. Make a random tensor with shape `(1, 1, 1, 10)` and then create a new tensor with all the `1` dimensions removed to be left with a tensor of shape `(10)`. Set the seed to `7` when you create it and print out the first tensor and it's shape as well as the second tensor and it's shape.\n",
        "\n",
        "The output should look like:\n",
        "\n",
        "```\n",
        "tensor([[[[0.5349, 0.1988, 0.6592, 0.6569, 0.2328, 0.4251, 0.2071, 0.6297,\n",
        "           0.3653, 0.8513]]]]) torch.Size([1, 1, 1, 10])\n",
        "tensor([0.5349, 0.1988, 0.6592, 0.6569, 0.2328, 0.4251, 0.2071, 0.6297, 0.3653,\n",
        "        0.8513]) torch.Size([10])\n",
        "```"
      ]
    },
    {
      "cell_type": "code",
      "execution_count": 40,
      "metadata": {
        "id": "TQ9zbRzVl1jV"
      },
      "outputs": [
        {
          "name": "stdout",
          "output_type": "stream",
          "text": [
            "tensor([[[[0.5349, 0.1988, 0.6592, 0.6569, 0.2328, 0.4251, 0.2071, 0.6297,\n",
            "           0.3653, 0.8513]]]])\n",
            "tensor([0.5349, 0.1988, 0.6592, 0.6569, 0.2328, 0.4251, 0.2071, 0.6297, 0.3653,\n",
            "        0.8513])\n",
            "torch.Size([10])\n"
          ]
        }
      ],
      "source": [
        "# Set seed\n",
        "torch.manual_seed(7)\n",
        "\n",
        "# Create random tensor\n",
        "a = torch.rand(1, 1, 1, 10)\n",
        "print(a)\n",
        "# Remove single dimensions\n",
        "print(a.squeeze())\n",
        "\n",
        "# Print out tensors and their shapes\n",
        "print(a.squeeze().shape)"
      ]
    }
  ],
  "metadata": {
    "accelerator": "GPU",
    "colab": {
      "collapsed_sections": [],
      "name": "00_pytorch_fundamentals_exercises.ipynb",
      "provenance": []
    },
    "kernelspec": {
      "display_name": "Python 3",
      "name": "python3"
    },
    "language_info": {
      "codemirror_mode": {
        "name": "ipython",
        "version": 3
      },
      "file_extension": ".py",
      "mimetype": "text/x-python",
      "name": "python",
      "nbconvert_exporter": "python",
      "pygments_lexer": "ipython3",
      "version": "3.13.2"
    }
  },
  "nbformat": 4,
  "nbformat_minor": 0
}
