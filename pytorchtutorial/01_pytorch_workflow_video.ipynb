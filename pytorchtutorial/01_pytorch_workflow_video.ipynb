{
 "cells": [
  {
   "cell_type": "markdown",
   "metadata": {},
   "source": [
    "# PyTorch Workflow\n",
    "\n",
    "Let's explore an example PyTorch end-to-end workflow"
   ]
  },
  {
   "cell_type": "markdown",
   "metadata": {},
   "source": [
    "## What we are covering:\n",
    "1. Data (prepare and load)\n",
    "2. Build model\n",
    "3. Fitting the model to data (training)\n",
    "4. Making predictions and evaluating a model (inference)\n",
    "5. Saving and loading a model\n",
    "6. Putting it all together\n"
   ]
  },
  {
   "cell_type": "code",
   "execution_count": 2,
   "metadata": {},
   "outputs": [],
   "source": [
    "import torch\n",
    "from torch import nn # nn contains all of PyTorch's building blocks for neuronal networks\n",
    "import matplotlib.pyplot as plt\n",
    "import numpy as np"
   ]
  },
  {
   "cell_type": "markdown",
   "metadata": {},
   "source": [
    "## 1. Data (prepare and load)\n",
    "\n",
    "Data can be almos anything in machine learning.\n",
    "\n",
    "* Excel speadsheet\n",
    "* Images of any king\n",
    "* Videos\n",
    "* Audio\n",
    "* DNA\n",
    "* Text\n",
    "\n",
    "Machine learning is a game of two parts:\n",
    "1. Get data into a numercial representation\n",
    "2. Build a model to learn patterns in that numerical representation\n",
    "\n",
    "To showcase this, let's create some *known* data using the linear regression formula.\n",
    "\n",
    "We'll use a linear regression formula to make a straight line with *known* **parameters**."
   ]
  },
  {
   "cell_type": "code",
   "execution_count": 3,
   "metadata": {},
   "outputs": [
    {
     "data": {
      "text/plain": [
       "(tensor([[0.0000],\n",
       "         [0.0200],\n",
       "         [0.0400],\n",
       "         [0.0600],\n",
       "         [0.0800],\n",
       "         [0.1000],\n",
       "         [0.1200],\n",
       "         [0.1400],\n",
       "         [0.1600],\n",
       "         [0.1800]]),\n",
       " tensor([[0.3000],\n",
       "         [0.3140],\n",
       "         [0.3280],\n",
       "         [0.3420],\n",
       "         [0.3560],\n",
       "         [0.3700],\n",
       "         [0.3840],\n",
       "         [0.3980],\n",
       "         [0.4120],\n",
       "         [0.4260]]))"
      ]
     },
     "execution_count": 3,
     "metadata": {},
     "output_type": "execute_result"
    }
   ],
   "source": [
    "# Create *known* parameters\n",
    "weight = .7\n",
    "bias  = .3\n",
    "\n",
    "# Create some random input data\n",
    "start = 0\n",
    "end = 1\n",
    "step = 0.02\n",
    "X = torch.arange(start, end, step).unsqueeze(dim=1) \n",
    "y = weight* X + bias\n",
    "X[:10], y[:10]"
   ]
  },
  {
   "cell_type": "markdown",
   "metadata": {},
   "source": [
    "## Splitting data into training and test set (one of the most importat concepts on machine learning in general)\n",
    "\n",
    "**Generalization**: The ability for a machine learning model to perform well on data it hasn't seen before.\n",
    "\n",
    "Let's create a training and test set with our data"
   ]
  },
  {
   "cell_type": "code",
   "execution_count": 4,
   "metadata": {},
   "outputs": [
    {
     "data": {
      "text/plain": [
       "(40, 40, 10, 10)"
      ]
     },
     "execution_count": 4,
     "metadata": {},
     "output_type": "execute_result"
    }
   ],
   "source": [
    "# Create a train/test split\n",
    "train_split = int(0.8 * len(X))\n",
    "X_train, y_train = X[:train_split], y[:train_split]\n",
    "X_test, y_test = X[train_split:], y[train_split:]\n",
    "\n",
    "len(X_train), len(y_train), len(X_test), len(y_test)"
   ]
  },
  {
   "cell_type": "code",
   "execution_count": 5,
   "metadata": {},
   "outputs": [
    {
     "data": {
      "text/plain": [
       "(tensor([[0.0000],\n",
       "         [0.0200],\n",
       "         [0.0400],\n",
       "         [0.0600],\n",
       "         [0.0800],\n",
       "         [0.1000],\n",
       "         [0.1200],\n",
       "         [0.1400],\n",
       "         [0.1600],\n",
       "         [0.1800]]),\n",
       " tensor([[0.3000],\n",
       "         [0.3140],\n",
       "         [0.3280],\n",
       "         [0.3420],\n",
       "         [0.3560],\n",
       "         [0.3700],\n",
       "         [0.3840],\n",
       "         [0.3980],\n",
       "         [0.4120],\n",
       "         [0.4260]]),\n",
       " tensor([[0.8000],\n",
       "         [0.8200],\n",
       "         [0.8400],\n",
       "         [0.8600],\n",
       "         [0.8800],\n",
       "         [0.9000],\n",
       "         [0.9200],\n",
       "         [0.9400],\n",
       "         [0.9600],\n",
       "         [0.9800]]),\n",
       " tensor([[0.8600],\n",
       "         [0.8740],\n",
       "         [0.8880],\n",
       "         [0.9020],\n",
       "         [0.9160],\n",
       "         [0.9300],\n",
       "         [0.9440],\n",
       "         [0.9580],\n",
       "         [0.9720],\n",
       "         [0.9860]]))"
      ]
     },
     "execution_count": 5,
     "metadata": {},
     "output_type": "execute_result"
    }
   ],
   "source": [
    "X_train[:10], y_train[:10], X_test, y_test"
   ]
  },
  {
   "cell_type": "code",
   "execution_count": 6,
   "metadata": {},
   "outputs": [],
   "source": [
    "def plot_predictions(train_data = X_train, train_labels = y_train, test_data = X_test, test_labels = y_test, predictions = None):\n",
    "\tplt.figure(figsize=(10,7))\n",
    "\t\n",
    "\t# Plot training data in blue\n",
    "\tplt.scatter(train_data, train_labels, c = \"b\", s=5, label=\"training data\") \n",
    "\t\n",
    "\t# Plot test data in green\n",
    "\tplt.scatter(test_data, test_labels, c=\"g\", s=4, label=\"testing data\")\n",
    "\t\n",
    "\t# Are there predictions?\n",
    "\tif predictions is not None:\n",
    "\t\t# Plot the predictions if they exist\n",
    "\t\tplt.scatter(test_data, predictions, c=\"r\", s=4, label=\"Predictions\")\n",
    "\t\t\n",
    "\t# SHow the legend\n",
    "\tplt.legend(prop={\"size\":14})"
   ]
  },
  {
   "cell_type": "code",
   "execution_count": 7,
   "metadata": {},
   "outputs": [
    {
     "data": {
      "image/png": "[encoded data removed]",
      "text/plain": [
       "<Figure size 1000x700 with 1 Axes>"
      ]
     },
     "metadata": {},
     "output_type": "display_data"
    }
   ],
   "source": [
    "plot_predictions()"
   ]
  },
  {
   "cell_type": "markdown",
   "metadata": {},
   "source": [
    "## 2. Build our model\n",
    "\n",
    "What or model does:\n",
    "1. Start with random numbers (weight and bias)\n",
    "2. Look at training data and adjust the random values to better represent (or get closer to) the ideas values (The weight and bias values we used to create the data)\n",
    "\n",
    "How does it do so?\n",
    "\n",
    "Though two main algorithms:\n",
    "1. Gradient descent: An optimization algorithm used to minimize a function. It does this by taking steps proportional to the negative of the gradient (the direction of steepest descent) of the function at the current point.\n",
    "2. Backpropagation: \n",
    " "
   ]
  },
  {
   "cell_type": "code",
   "execution_count": 8,
   "metadata": {},
   "outputs": [],
   "source": [
    "# Create a linear regression model class\n",
    "\n",
    "class LinearRegressionModel(nn.Module): # Almost everything in PyTorch inherits from nn.Module\n",
    "\tdef __init__(self):\n",
    "\t\tsuper().__init__()\n",
    "\t\tself.weights = nn.Parameter(torch.randn(1, \n",
    "\t\t\t\t\t\t\t\t\t\t requires_grad=True, # requires_grad=True means PyTorch will keep track of the gradients\n",
    "\t\t\t\t\t\t\t\t\t\t dtype=torch.float))\n",
    "\t\t\n",
    "\t\tself.bias = nn.Parameter(torch.randn(1,\n",
    "\t\t\t\t\t\t\t\t\t   requires_grad=True,\n",
    "\t\t\t\t\t\t\t\t\t  dtype=torch.float))\n",
    "\t\t\n",
    "\t\t# Any subclass of nn.module need to override forward() (this defines the computation in the model)\n",
    "\tdef forward(self, x: torch.Tensor) -> torch.Tensor: # x is the input data\n",
    "\t\treturn self.weights * x + self.bias # @ is matrix multiplication"
   ]
  },
  {
   "cell_type": "markdown",
   "metadata": {},
   "source": [
    "## Pytorch model building essentials\n",
    "\n",
    "* torch.nn - contains all  o f the buildings for computational graph ( a neural network can be considered a computational graph)\n",
    "* torch.nn.Parameter - What parameters should or model try and learn. often a PyTorch layer from torch.nn will set these for us\n",
    "* torch.nn.module - The base class for all neural network modules. if you subclass it, you should overwrite forward()\n",
    "* torch.optim - This is where the optimizers in PyTorch  live, they will help with gradient descent\n",
    "* def forward() - All nn.Module subclasses require you to overwrite forward(), this method defines what happens in the forward computation"
   ]
  },
  {
   "cell_type": "markdown",
   "metadata": {},
   "source": [
    "## Checking the content of our PyTorch models\n",
    "\n",
    "Now we've created a model, let's see what's inside "
   ]
  },
  {
   "cell_type": "code",
   "execution_count": 9,
   "metadata": {},
   "outputs": [
    {
     "data": {
      "text/plain": [
       "[Parameter containing:\n",
       " tensor([0.3367], requires_grad=True),\n",
       " Parameter containing:\n",
       " tensor([0.1288], requires_grad=True)]"
      ]
     },
     "execution_count": 9,
     "metadata": {},
     "output_type": "execute_result"
    }
   ],
   "source": [
    "# Create a random seed\n",
    "torch.manual_seed(42) \n",
    "\n",
    "# Create an instance of the model (this is a sub class of nn.Module)\n",
    "model = LinearRegressionModel()\n",
    "\n",
    "# Check out the parameters\n",
    "list(model.parameters())"
   ]
  },
  {
   "cell_type": "code",
   "execution_count": 10,
   "metadata": {},
   "outputs": [
    {
     "data": {
      "text/plain": [
       "OrderedDict([('weights', tensor([0.3367])), ('bias', tensor([0.1288]))])"
      ]
     },
     "execution_count": 10,
     "metadata": {},
     "output_type": "execute_result"
    }
   ],
   "source": [
    "# List named parameters\n",
    "model.state_dict()"
   ]
  },
  {
   "cell_type": "markdown",
   "metadata": {},
   "source": [
    "## Making predictions using `torch.inference_mode()`\n",
    "\n",
    "To check our model's predictive power, let's see how well it predicts `y_test` based on `x_test`\n",
    "\n",
    "when we pass data trough our model, it's going to run it trough the `forward()` method."
   ]
  },
  {
   "cell_type": "code",
   "execution_count": 11,
   "metadata": {},
   "outputs": [
    {
     "data": {
      "text/plain": [
       "tensor([[0.3982],\n",
       "        [0.4049],\n",
       "        [0.4116],\n",
       "        [0.4184],\n",
       "        [0.4251],\n",
       "        [0.4318],\n",
       "        [0.4386],\n",
       "        [0.4453],\n",
       "        [0.4520],\n",
       "        [0.4588]])"
      ]
     },
     "execution_count": 11,
     "metadata": {},
     "output_type": "execute_result"
    }
   ],
   "source": [
    "# Make predictions with model\n",
    "with torch.inference_mode():\n",
    "\ty_preds = model(X_test)\n",
    "\t\n",
    "y_preds"
   ]
  },
  {
   "cell_type": "code",
   "execution_count": 12,
   "metadata": {},
   "outputs": [
    {
     "data": {
      "image/png": "[encoded data removed]",
      "text/plain": [
       "<Figure size 1000x700 with 1 Axes>"
      ]
     },
     "metadata": {},
     "output_type": "display_data"
    }
   ],
   "source": [
    "plot_predictions(predictions=y_preds)"
   ]
  },
  {
   "cell_type": "markdown",
   "metadata": {},
   "source": [
    "## 3. Train model\n",
    "\n",
    "The whole idea of training is for a model to move from some *uknown* parameters (these may be random) to some *known* parameters.\n",
    "\n",
    "Or in other words from a poor representation of the data to a better representation of the data.\n",
    "\n",
    "One way to measure how poor or how wrong your models prediction are is to use a loss function.\n",
    "\n",
    "* Note: Loss function may also be called cost function or criterion in different areas. For our case, we're going to refer to it as a loss function.\n",
    "\n",
    "Things we need to train:\n",
    "\n",
    "* **Loss function**: A function to measure how wrong your model's predictions are to the ideal outputs, lower is better.\n",
    "\n",
    "* **Optimizer**: An algorithm that helps the model find the best parameters to minimize the loss function.\n",
    "\n",
    "And specifically for PyTorch, we need:\n",
    "\n",
    "* A training loop\n",
    "* A testing loop"
   ]
  },
  {
   "cell_type": "code",
   "execution_count": 13,
   "metadata": {},
   "outputs": [
    {
     "data": {
      "text/plain": [
       "OrderedDict([('weights', tensor([0.3367])), ('bias', tensor([0.1288]))])"
      ]
     },
     "execution_count": 13,
     "metadata": {},
     "output_type": "execute_result"
    }
   ],
   "source": [
    "# Check out our model parameters\n",
    "model.state_dict()"
   ]
  },
  {
   "cell_type": "code",
   "execution_count": 14,
   "metadata": {},
   "outputs": [],
   "source": [
    "# Setup a loss function\n",
    "loss_fn = nn.L1Loss()\n",
    "\n",
    "# Setup an optimizer (stochastic gradient descent)\n",
    "optimizer = torch.optim.SGD(params=model.parameters(),\n",
    "\t\t\t\t\t\t\tlr=0.01) # lr = learning rate, possibly the most important hyperparameter you can set"
   ]
  },
  {
   "cell_type": "markdown",
   "metadata": {},
   "source": [
    "## Building a training and a testing loop in pyTorch\n",
    "\n",
    "A couple of things we need in a training loop:\n",
    "\n",
    "0. Loop through the data \n",
    "1. Forward pass (this involves data moving though our model's `forward()` functions) to make predictions data - also called propagation\n",
    "2. Calculate the loss (compare forward pass predictions to ground truth labels)\n",
    "3. Optimizer zero grad\n",
    "4. Loss backward- move backward through the network to calculate the gradients of each of the parameters of our model with respect to the loss (**backpropagation**)\n",
    "5. Optimizer step - use the optimizer to adjust our model's parameters to try and improve the loss (**gradient descent**)\n"
   ]
  },
  {
   "cell_type": "code",
   "execution_count": null,
   "metadata": {},
   "outputs": [
    {
     "name": "stdout",
     "output_type": "stream",
     "text": [
      "Epoch 0 | Loss: 0.31288138031959534 | Test loss: 0.48106518387794495\n",
      "Epoch 10 | Loss: 0.1976713240146637 | Test loss: 0.3463551998138428\n",
      "Epoch 20 | Loss: 0.08908725529909134 | Test loss: 0.21729660034179688\n",
      "Epoch 30 | Loss: 0.053148526698350906 | Test loss: 0.14464017748832703\n",
      "Epoch 40 | Loss: 0.04543796554207802 | Test loss: 0.11360953003168106\n",
      "Epoch 50 | Loss: 0.04167863354086876 | Test loss: 0.09919948130846024\n",
      "Epoch 60 | Loss: 0.03818932920694351 | Test loss: 0.08886633068323135\n",
      "Epoch 70 | Loss: 0.03476089984178543 | Test loss: 0.0805937647819519\n",
      "Epoch 80 | Loss: 0.03132382780313492 | Test loss: 0.07232122868299484\n",
      "Epoch 90 | Loss: 0.02788739837706089 | Test loss: 0.06473556160926819\n",
      "Epoch 100 | Loss: 0.024458957836031914 | Test loss: 0.05646304413676262\n",
      "Epoch 110 | Loss: 0.021020207554101944 | Test loss: 0.04819049686193466\n",
      "Epoch 120 | Loss: 0.01758546568453312 | Test loss: 0.04060482233762741\n",
      "Epoch 130 | Loss: 0.014155393466353416 | Test loss: 0.03233227878808975\n",
      "Epoch 140 | Loss: 0.010716589167714119 | Test loss: 0.024059748277068138\n",
      "Epoch 150 | Loss: 0.0072835334576666355 | Test loss: 0.016474086791276932\n",
      "Epoch 160 | Loss: 0.0038517764769494534 | Test loss: 0.008201557211577892\n",
      "Epoch 170 | Loss: 0.008932482451200485 | Test loss: 0.005023092031478882\n",
      "Epoch 180 | Loss: 0.008932482451200485 | Test loss: 0.005023092031478882\n",
      "Epoch 190 | Loss: 0.008932482451200485 | Test loss: 0.005023092031478882\n"
     ]
    }
   ],
   "source": [
    "# An epoch is one loop through the data...\n",
    "\n",
    "epoch = 200\n",
    "\n",
    "# Track different values\n",
    "epoch_count = []\n",
    "loss_values = []\n",
    "test_loss_values = []\n",
    "\n",
    "### Training\n",
    "# 0. Loop through the data\n",
    "for epoch in range(epoch):\n",
    "\t# Set the model to train mode\n",
    "\tmodel.train() # train model in PyTorch sets all parameters that require gradients to require gradients\n",
    "\n",
    "\t# 1. Forward pass\n",
    "\ty_pred = model(X_train)\n",
    "\n",
    "\t# 2. Calculate the loss\n",
    "\tloss = loss_fn(y_pred, y_train)\n",
    "\n",
    "\t# 3. Optimizer zero grad\n",
    "\toptimizer.zero_grad()\n",
    "\n",
    "\t# 4. Loss backward\n",
    "\tloss.backward()\n",
    "\n",
    "\t# 5. Optimizer step\n",
    "\toptimizer.step() # By default how the optimizer changes will accumulate  through the loop so we have to zero them above in step 3 for the iteration of the loop\n",
    "\t\n",
    "\t### Testing\n",
    "\tmodel.eval() # turns off different setting in model not needed for evaluation/testing (dropout/batch norm layers)\n",
    "\twith torch.inference_mode(): # Turn off gradient tracking and a couple more things behind the scenes\n",
    "\t\t# 1. Do the forward pass\n",
    "\t\ttest_pred = model(X_test)\n",
    "\n",
    "\t\t# 2. Calculate the loss\n",
    "\t\ttest_loss = loss_fn(test_pred, y_test)\n",
    "\n",
    "\t# Print out what's happenin'\n",
    "\tif epoch % 10 == 0:\n",
    "\t\tepoch_count.append(epoch)\n",
    "\t\tloss_values.append(loss)\n",
    "\t\ttest_loss_values.append(test_loss)\n",
    "\t\tprint(f\"Epoch {epoch} | Loss: {loss} | Test loss: {test_loss}\")\t\t\n",
    "\n"
   ]
  },
  {
   "cell_type": "code",
   "execution_count": 16,
   "metadata": {},
   "outputs": [
    {
     "data": {
      "text/plain": [
       "array([0.31288138, 0.19767132, 0.08908726, 0.05314853, 0.04543797,\n",
       "       0.04167863, 0.03818933, 0.0347609 , 0.03132383, 0.0278874 ,\n",
       "       0.02445896, 0.02102021, 0.01758547, 0.01415539, 0.01071659,\n",
       "       0.00728353, 0.00385178, 0.00893248, 0.00893248, 0.00893248],\n",
       "      dtype=float32)"
      ]
     },
     "execution_count": 16,
     "metadata": {},
     "output_type": "execute_result"
    }
   ],
   "source": [
    "np.array(torch.tensor(loss_values).cpu().numpy())"
   ]
  },
  {
   "cell_type": "code",
   "execution_count": 17,
   "metadata": {},
   "outputs": [
    {
     "data": {
      "text/plain": [
       "<matplotlib.legend.Legend at 0x700b5185a490>"
      ]
     },
     "execution_count": 17,
     "metadata": {},
     "output_type": "execute_result"
    },
    {
     "data": {
      "image/png": "[encoded data removed]",
      "text/plain": [
       "<Figure size 640x480 with 1 Axes>"
      ]
     },
     "metadata": {},
     "output_type": "display_data"
    }
   ],
   "source": [
    "# Plot the loss values over the epochs\n",
    "plt.plot(epoch_count, np.array(torch.tensor(loss_values).numpy()), label=\"Training loss\")\n",
    "plt.plot(epoch_count, test_loss_values, label=\"Test loss\")\n",
    "plt.title(\"Training and test loss curve\")\n",
    "plt.ylabel(\"loss\")\n",
    "plt.xlabel(\"Epoch\")\n",
    "plt.legend()"
   ]
  },
  {
   "cell_type": "code",
   "execution_count": 18,
   "metadata": {},
   "outputs": [
    {
     "name": "stdout",
     "output_type": "stream",
     "text": [
      "OrderedDict({'weights': tensor([0.6990]), 'bias': tensor([0.3093])})\n",
      "[+] Desired values: 0.7, 0.3\n"
     ]
    }
   ],
   "source": [
    "print(model.state_dict())\n",
    "print(f\"[+] Desired values: {weight}, {bias}\")"
   ]
  },
  {
   "cell_type": "code",
   "execution_count": 19,
   "metadata": {},
   "outputs": [
    {
     "data": {
      "image/png": "[encoded data removed]",
      "text/plain": [
       "<Figure size 1000x700 with 1 Axes>"
      ]
     },
     "metadata": {},
     "output_type": "display_data"
    }
   ],
   "source": [
    "with torch.inference_mode():\n",
    "    y_preds_new = model(X_test)\n",
    "\n",
    "plot_predictions(predictions=y_preds_new)"
   ]
  },
  {
   "cell_type": "markdown",
   "metadata": {},
   "source": [
    "## Saving a model in PyTorch\n",
    "\n",
    "There are three main methods you should knwo about for saving and loading model in PyTorch\n",
    "\n",
    "1. `torch.save`: This function saves entire model in a single file. It saves both the model's architecture and the model's state_dict.\n",
    "\n",
    "2. `torch.nn.Module.load_state_dict`: \n",
    "\n",
    "3. `torch.load`: This function loads the entire model from a file."
   ]
  },
  {
   "cell_type": "code",
   "execution_count": 20,
   "metadata": {},
   "outputs": [
    {
     "name": "stdout",
     "output_type": "stream",
     "text": [
      "[+] Model saved at: models/01_pytorch_workflow_model.pt\n"
     ]
    }
   ],
   "source": [
    "# Saving our Pytorch model\n",
    "from pathlib import Path\n",
    "\n",
    "# 1. Create model directory\n",
    "model_path = Path(\"models\")\n",
    "model_path.mkdir(parents=True, exist_ok=True)\n",
    "\n",
    "#2. Create model save path\n",
    "model_name = \"01_pytorch_workflow_model.pt\"\n",
    "model_save_path = model_path / model_name\n",
    "\n",
    "# 3. Save model state dict\n",
    "torch.save(obj=model.state_dict(), f=model_save_path)\n",
    "\n",
    "print(f\"[+] Model saved at: {model_save_path}\")"
   ]
  },
  {
   "cell_type": "markdown",
   "metadata": {},
   "source": [
    "## Loading a Pytorch model\n",
    "\n",
    "Since we saved our model's `sate_dict()` rather the entire model, we'll create a new instance of our model class and load the saved `state_dict()` into that."
   ]
  },
  {
   "cell_type": "code",
   "execution_count": 21,
   "metadata": {},
   "outputs": [
    {
     "data": {
      "text/plain": [
       "<bound method Module.state_dict of LinearRegressionModel()>"
      ]
     },
     "execution_count": 21,
     "metadata": {},
     "output_type": "execute_result"
    }
   ],
   "source": [
    "model.state_dict "
   ]
  },
  {
   "cell_type": "code",
   "execution_count": null,
   "metadata": {},
   "outputs": [
    {
     "data": {
      "text/plain": [
       "OrderedDict([('weights', tensor([0.2345])), ('bias', tensor([0.2303]))])"
      ]
     },
     "execution_count": 22,
     "metadata": {},
     "output_type": "execute_result"
    }
   ],
   "source": [
    "# To load in a saved state_dict we have to instance a new instance of our model class\n",
    "\n",
    "loaded_model = LinearRegressionModel()\n",
    "\n",
    "# See the initial parameters of the loaded model class\n",
    "loaded_model.state_dict()"
   ]
  },
  {
   "cell_type": "code",
   "execution_count": 24,
   "metadata": {},
   "outputs": [
    {
     "data": {
      "text/plain": [
       "<All keys matched successfully>"
      ]
     },
     "execution_count": 24,
     "metadata": {},
     "output_type": "execute_result"
    }
   ],
   "source": [
    "# Load the saved state_dict of model (this will update the new instance with updated parameters)\n",
    "loaded_model.load_state_dict(torch.load(f=model_save_path))"
   ]
  },
  {
   "cell_type": "code",
   "execution_count": 25,
   "metadata": {},
   "outputs": [
    {
     "data": {
      "text/plain": [
       "OrderedDict([('weights', tensor([0.6990])), ('bias', tensor([0.3093]))])"
      ]
     },
     "execution_count": 25,
     "metadata": {},
     "output_type": "execute_result"
    }
   ],
   "source": [
    "loaded_model.state_dict()"
   ]
  },
  {
   "cell_type": "code",
   "execution_count": 28,
   "metadata": {},
   "outputs": [
    {
     "data": {
      "text/plain": [
       "(tensor([[0.8685],\n",
       "         [0.8825],\n",
       "         [0.8965],\n",
       "         [0.9105],\n",
       "         [0.9245],\n",
       "         [0.9384],\n",
       "         [0.9524],\n",
       "         [0.9664],\n",
       "         [0.9804],\n",
       "         [0.9944]]),\n",
       " tensor([[0.8685],\n",
       "         [0.8825],\n",
       "         [0.8965],\n",
       "         [0.9105],\n",
       "         [0.9245],\n",
       "         [0.9384],\n",
       "         [0.9524],\n",
       "         [0.9664],\n",
       "         [0.9804],\n",
       "         [0.9944]]))"
      ]
     },
     "execution_count": 28,
     "metadata": {},
     "output_type": "execute_result"
    }
   ],
   "source": [
    "# Make some predictions with our loaded model\n",
    "loaded_model.eval()\n",
    "with torch.inference_mode():\n",
    "    loaded_model_preds = loaded_model(X_test)\n",
    "\n",
    "loaded_model_preds, y_preds_new"
   ]
  },
  {
   "cell_type": "code",
   "execution_count": 29,
   "metadata": {},
   "outputs": [
    {
     "data": {
      "text/plain": [
       "tensor([[True],\n",
       "        [True],\n",
       "        [True],\n",
       "        [True],\n",
       "        [True],\n",
       "        [True],\n",
       "        [True],\n",
       "        [True],\n",
       "        [True],\n",
       "        [True]])"
      ]
     },
     "execution_count": 29,
     "metadata": {},
     "output_type": "execute_result"
    }
   ],
   "source": [
    "y_preds_new == loaded_model_preds"
   ]
  }
 ],
 "metadata": {
  "kernelspec": {
   "display_name": "Python 3",
   "language": "python",
   "name": "python3"
  },
  "language_info": {
   "codemirror_mode": {
    "name": "ipython",
    "version": 3
   },
   "file_extension": ".py",
   "mimetype": "text/x-python",
   "name": "python",
   "nbconvert_exporter": "python",
   "pygments_lexer": "ipython3",
   "version": "3.13.2"
  }
 },
 "nbformat": 4,
 "nbformat_minor": 2
}
